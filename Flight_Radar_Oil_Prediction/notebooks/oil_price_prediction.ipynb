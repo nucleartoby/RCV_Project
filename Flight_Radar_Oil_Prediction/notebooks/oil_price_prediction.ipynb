{
 "cells": [
  {
   "cell_type": "markdown",
   "id": "ed73f684",
   "metadata": {},
   "source": [
    "# Oil Price Prediction Using Military Flight Data\n",
    "\n",
    "First, let's check our environment setup and dependencies."
   ]
  },
  {
   "cell_type": "code",
   "execution_count": null,
   "id": "42a51f38",
   "metadata": {},
   "outputs": [
    {
     "name": "stdout",
     "output_type": "stream",
     "text": [
      "Missing packages: selenium\n",
      "\n",
      "Install using:\n",
      "pip install selenium\n"
     ]
    },
    {
     "ename": "ImportError",
     "evalue": "Missing required packages",
     "output_type": "error",
     "traceback": [
      "\u001b[1;31m---------------------------------------------------------------------------\u001b[0m",
      "\u001b[1;31mImportError\u001b[0m                               Traceback (most recent call last)",
      "Cell \u001b[1;32mIn[1], line 21\u001b[0m\n\u001b[0;32m     18\u001b[0m         \u001b[38;5;28;01mraise\u001b[39;00m \u001b[38;5;167;01mImportError\u001b[39;00m(\u001b[38;5;124m\"\u001b[39m\u001b[38;5;124mMissing required packages\u001b[39m\u001b[38;5;124m\"\u001b[39m)\n\u001b[0;32m     19\u001b[0m     \u001b[38;5;28mprint\u001b[39m(\u001b[38;5;124m\"\u001b[39m\u001b[38;5;124mAll required packages are installed!\u001b[39m\u001b[38;5;124m\"\u001b[39m)\n\u001b[1;32m---> 21\u001b[0m check_dependencies()\n",
      "Cell \u001b[1;32mIn[1], line 18\u001b[0m, in \u001b[0;36mcheck_dependencies\u001b[1;34m()\u001b[0m\n\u001b[0;32m     16\u001b[0m     \u001b[38;5;28mprint\u001b[39m(\u001b[38;5;124m\"\u001b[39m\u001b[38;5;130;01m\\n\u001b[39;00m\u001b[38;5;124mInstall using:\u001b[39m\u001b[38;5;124m\"\u001b[39m)\n\u001b[0;32m     17\u001b[0m     \u001b[38;5;28mprint\u001b[39m(\u001b[38;5;124mf\u001b[39m\u001b[38;5;124m\"\u001b[39m\u001b[38;5;124mpip install \u001b[39m\u001b[38;5;132;01m{\u001b[39;00m\u001b[38;5;124m'\u001b[39m\u001b[38;5;124m \u001b[39m\u001b[38;5;124m'\u001b[39m\u001b[38;5;241m.\u001b[39mjoin(missing)\u001b[38;5;132;01m}\u001b[39;00m\u001b[38;5;124m\"\u001b[39m)\n\u001b[1;32m---> 18\u001b[0m     \u001b[38;5;28;01mraise\u001b[39;00m \u001b[38;5;167;01mImportError\u001b[39;00m(\u001b[38;5;124m\"\u001b[39m\u001b[38;5;124mMissing required packages\u001b[39m\u001b[38;5;124m\"\u001b[39m)\n\u001b[0;32m     19\u001b[0m \u001b[38;5;28mprint\u001b[39m(\u001b[38;5;124m\"\u001b[39m\u001b[38;5;124mAll required packages are installed!\u001b[39m\u001b[38;5;124m\"\u001b[39m)\n",
      "\u001b[1;31mImportError\u001b[0m: Missing required packages"
     ]
    }
   ],
   "source": [
    "import sys\n",
    "import os\n",
    "sys.path.append(os.path.dirname(os.path.dirname(os.path.abspath(''))))\n",
    "\n",
    "import pandas as pd\n",
    "import numpy as np\n",
    "from pathlib import Path\n",
    "import logging\n",
    "from datetime import datetime\n",
    "import plotly.express as px\n",
    "import plotly.graph_objects as go\n",
    "\n",
    "from src.ml_models.predictor_model import OilPricePredictor\n",
    "from src.ml_models.feature_engineering import FeatureEngineer\n",
    "from src.data_collection.oil_price_collector import OilPriceCollector\n",
    "from src.data_collection.flightradar_scraper import FlightRadarScraper\n",
    "from src.data_collection.base_monitor import BaseMonitor\n",
    "from src.utils.logging_config import setup_logging\n",
    "\n",
    "setup_logging()"
   ]
  },
  {
   "cell_type": "code",
   "execution_count": null,
   "id": "2cbe2a15",
   "metadata": {},
   "outputs": [],
   "source": [
    "import os\n",
    "import sys\n",
    "from pathlib import Path\n",
    "\n",
    "# Get the absolute path to the project root\n",
    "notebook_dir = Path().absolute()\n",
    "project_root = notebook_dir.parent\n",
    "\n",
    "# Add project root to Python path if not already there\n",
    "if str(project_root) not in sys.path:\n",
    "    sys.path.insert(0, str(project_root))\n",
    "\n",
    "# Verify the path is set correctly\n",
    "print(f\"Project root: {project_root}\")\n",
    "print(f\"Python path: {sys.path[0]}\")\n",
    "\n",
    "# Now import project modules\n",
    "try:\n",
    "    from src.ml_models.predictor_model import OilPricePredictor\n",
    "    from src.ml_models.feature_engineering import FeatureEngineer\n",
    "    from src.data_collection.oil_price_collector import OilPriceCollector\n",
    "    from src.data_collection.flightradar_scraper import FlightRadarScraper\n",
    "    from src.data_collection.base_monitor import BaseMonitor\n",
    "    print(\"All project modules imported successfully!\")\n",
    "except ImportError as e:\n",
    "    print(f\"Error importing project modules: {e}\")\n",
    "    print(\"\\nMake sure you're running this notebook from the project root directory\")\n",
    "    raise\n",
    "\n",
    "import logging\n",
    "from datetime import datetime\n",
    "import plotly.express as px\n",
    "import plotly.graph_objects as go\n",
    "\n",
    "from src.utils.logging_config import setup_logging\n",
    "\n",
    "setup_logging()"
   ]
  },
  {
   "cell_type": "markdown",
   "id": "5e8791b2",
   "metadata": {},
   "source": [
    "## 1. Load Latest Trained Model"
   ]
  },
  {
   "cell_type": "code",
   "execution_count": null,
   "id": "46d67370",
   "metadata": {},
   "outputs": [],
   "source": [
    "def load_latest_model():\n",
    "    model_files = list(Path(\"../data/models\").glob(\"oil_predictor_*.pkl\"))\n",
    "    if not model_files:\n",
    "        raise FileNotFoundError(\"No trained models found\")\n",
    "    \n",
    "    latest_model = max(model_files, key=os.path.getctime)\n",
    "    print(f\"Loading model: {latest_model}\")\n",
    "    \n",
    "    predictor = OilPricePredictor()\n",
    "    predictor.load_model(latest_model)\n",
    "    \n",
    "    return predictor\n",
    "\n",
    "predictor = load_latest_model()"
   ]
  },
  {
   "cell_type": "markdown",
   "id": "ddc85007",
   "metadata": {},
   "source": [
    "## 2. Collect data"
   ]
  },
  {
   "cell_type": "code",
   "execution_count": null,
   "id": "3f6c7918",
   "metadata": {},
   "outputs": [],
   "source": [
    "oil_collector = OilPriceCollector()\n",
    "flight_scraper = FlightRadarScraper()\n",
    "base_monitor = BaseMonitor()\n",
    "\n",
    "try:\n",
    "    print(\"Fetching current oil prices...\")\n",
    "    current_prices = oil_collector.fetch_current_prices()\n",
    "    print(\"Fetching historical oil data...\")\n",
    "    recent_oil = oil_collector.fetch_historical_data(days=7)\n",
    "    \n",
    "    print(\"Fetching flight data...\")\n",
    "    flights = flight_scraper.get_middle_east_flights()\n",
    "    \n",
    "    if flights:\n",
    "        flight_df = pd.DataFrame(flights)\n",
    "        flight_df['is_military'] = flight_df['callsign'].apply(base_monitor.is_military_aircraft)\n",
    "\n",
    "        base_info = []\n",
    "        for _, flight in flight_df.iterrows():\n",
    "            is_near, base_name = base_monitor.is_near_base(flight['latitude'], flight['longitude'])\n",
    "            base_info.append({\n",
    "                'is_near_base': is_near,\n",
    "                'base_name': base_name if is_near else 'None'\n",
    "            })\n",
    "        \n",
    "        base_df = pd.DataFrame(base_info)\n",
    "        flight_df = pd.concat([flight_df, base_df], axis=1)\n",
    "finally:\n",
    "    flight_scraper.close_driver()\n",
    "\n",
    "print(\"\\nCurrent Oil Prices:\")\n",
    "print(f\"Brent Crude: ${current_prices.get('BZ=F', 'N/A')}\")\n",
    "print(f\"WTI Crude: ${current_prices.get('CL=F', 'N/A')}\")"
   ]
  },
  {
   "cell_type": "markdown",
   "id": "283b1d99",
   "metadata": {},
   "source": [
    "## 3. Process and Visualise Flight Data"
   ]
  },
  {
   "cell_type": "code",
   "execution_count": null,
   "id": "31eab8cc",
   "metadata": {},
   "outputs": [],
   "source": [
    "if not flight_df.empty:\n",
    "    military_count = flight_df['is_military'].sum()\n",
    "    total_flights = len(flight_df)\n",
    "    \n",
    "    # Create pie chart of military vs civilian flights\n",
    "    labels = ['Military', 'Civilian']\n",
    "    values = [military_count, total_flights - military_count]\n",
    "    \n",
    "    fig = go.Figure(data=[go.Pie(labels=labels, values=values)])\n",
    "    fig.update_layout(title='Military vs Civilian Flights')\n",
    "    fig.show()\n",
    "    \n",
    "    # Create scatter map of flights\n",
    "    fig = px.scatter_mapbox(flight_df,\n",
    "                           lat='latitude',\n",
    "                           lon='longitude',\n",
    "                           color='is_military',\n",
    "                           hover_data=['callsign', 'base_name'],\n",
    "                           zoom=4,\n",
    "                           title='Flight Locations')\n",
    "    fig.update_layout(mapbox_style='open-street-map')\n",
    "    fig.show()"
   ]
  },
  {
   "cell_type": "markdown",
   "id": "2b7f4792",
   "metadata": {},
   "source": [
    "## 4. Feature Engineering and Prediction"
   ]
  },
  {
   "cell_type": "code",
   "execution_count": null,
   "id": "3136fec9",
   "metadata": {},
   "outputs": [],
   "source": [
    "feature_engineer = FeatureEngineer()\n",
    "\n",
    "if not flight_df.empty:\n",
    "    flight_features = feature_engineer.create_flight_features(flight_df)\n",
    "else:\n",
    "    print(\"No flight data available\")\n",
    "    flight_features = pd.DataFrame()\n",
    "\n",
    "oil_features = feature_engineer.create_oil_features(recent_oil)\n",
    "\n",
    "if not flight_features.empty:\n",
    "    combined_features = feature_engineer.combine_features(flight_features, oil_features)\n",
    "else:\n",
    "    combined_features = oil_features\n",
    "    print(\"Prediction based only on oil price features\")\n",
    "\n",
    "latest_features = combined_features.iloc[-1:].values\n",
    "prediction = predictor.predict(latest_features)[0]\n",
    "\n",
    "print(f\"\\nPredicted Brent Crude Price: ${prediction:.2f}\")"
   ]
  },
  {
   "cell_type": "markdown",
   "id": "2d63a112",
   "metadata": {},
   "source": [
    "## 5. Save Prediction Results"
   ]
  },
  {
   "cell_type": "code",
   "execution_count": null,
   "id": "188dd75d",
   "metadata": {},
   "outputs": [],
   "source": [
    "prediction_data = {\n",
    "    'timestamp': datetime.now().isoformat(),\n",
    "    'predicted_price': float(prediction),\n",
    "    'current_bz_price': current_prices.get('BZ=F'),\n",
    "    'current_cl_price': current_prices.get('CL=F'),\n",
    "    'military_flights': int(flight_df['is_military'].sum()) if not flight_df.empty else 0,\n",
    "    'total_flights': len(flight_df) if not flight_df.empty else 0,\n",
    "    'model_used': predictor.best_model_name\n",
    "}\n",
    "\n",
    "Path(\"../data/predictions\").mkdir(parents=True, exist_ok=True)\n",
    "prediction_file = f\"../data/predictions/prediction_{datetime.now().strftime('%Y%m%d_%H%M%S')}.json\"\n",
    "\n",
    "import json\n",
    "with open(prediction_file, 'w') as f:\n",
    "    json.dump(prediction_data, f, indent=2)\n",
    "\n",
    "print(f\"Prediction saved to {prediction_file}\")"
   ]
  }
 ],
 "metadata": {
  "kernelspec": {
   "display_name": "base",
   "language": "python",
   "name": "python3"
  },
  "language_info": {
   "codemirror_mode": {
    "name": "ipython",
    "version": 3
   },
   "file_extension": ".py",
   "mimetype": "text/x-python",
   "name": "python",
   "nbconvert_exporter": "python",
   "pygments_lexer": "ipython3",
   "version": "3.12.7"
  }
 },
 "nbformat": 4,
 "nbformat_minor": 5
}
